{
  "nbformat": 4,
  "nbformat_minor": 0,
  "metadata": {
    "colab": {
      "name": "PREDICT_NEXT_WORD_new",
      "version": "0.3.2",
      "provenance": []
    },
    "kernelspec": {
      "name": "python3",
      "display_name": "Python 3"
    },
    "accelerator": "GPU"
  },
  "cells": [
    {
      "cell_type": "code",
      "metadata": {
        "id": "slWgsqbGuQoN",
        "colab_type": "code",
        "colab": {
          "base_uri": "https://localhost:8080/",
          "height": 34
        },
        "outputId": "e876bef4-1e46-449c-dceb-30ae48b0b614"
      },
      "source": [
        "import collections\n",
        "import json\n",
        "import os\n",
        "import numpy as np\n",
        "import tensorflow as tf\n",
        "from keras.models import Sequential, Model\n",
        "import re\n",
        "from tqdm import tqdm\n",
        "import pandas as pd\n",
        "import warnings\n",
        "import json\n",
        "import matplotlib.pyplot as plt\n",
        "from wordcloud import WordCloud\n",
        "from keras.models import Sequential\n",
        "from keras.layers import Dense, Dropout, LSTM, TimeDistributed\n",
        "from keras.layers.embeddings import Embedding\n",
        "from keras.preprocessing import sequence\n",
        "from sklearn.preprocessing import OneHotEncoder\n",
        "from sklearn.feature_extraction.text import CountVectorizer\n",
        "from keras.utils import to_categorical\n",
        "\n",
        "plt.style.use('fivethirtyeight')\n",
        "plt.rcParams['figure.figsize'] = [8, 4]\n",
        "warnings.filterwarnings(\"ignore\", category=FutureWarning)\n",
        "%config InlineBackend.figure_format = 'retina'"
      ],
      "execution_count": 1,
      "outputs": [
        {
          "output_type": "stream",
          "text": [
            "Using TensorFlow backend.\n"
          ],
          "name": "stderr"
        }
      ]
    },
    {
      "cell_type": "code",
      "metadata": {
        "id": "0JLSwZ_qvLhe",
        "colab_type": "code",
        "colab": {
          "base_uri": "https://localhost:8080/",
          "height": 34
        },
        "outputId": "1d94a901-69d0-4055-dc9b-a9e2bbce4bda"
      },
      "source": [
        "from zipfile import ZipFile\n",
        "\n",
        "file_name = \"scifi-stories-text-corpus.zip\"\n",
        "with ZipFile(file_name,'r') as zip:\n",
        "  zip.extractall()\n",
        "  print('Done')"
      ],
      "execution_count": 2,
      "outputs": [
        {
          "output_type": "stream",
          "text": [
            "Done\n"
          ],
          "name": "stdout"
        }
      ]
    },
    {
      "cell_type": "markdown",
      "metadata": {
        "id": "OMpDbq2kvPO4",
        "colab_type": "text"
      },
      "source": [
        "## Dataset Overview"
      ]
    },
    {
      "cell_type": "code",
      "metadata": {
        "id": "sR5QXPXwvL33",
        "colab_type": "code",
        "colab": {}
      },
      "source": [
        "data_path = \"internet_archive_scifi_v3.txt\""
      ],
      "execution_count": 0,
      "outputs": []
    },
    {
      "cell_type": "code",
      "metadata": {
        "id": "CpgUlHdFvL8n",
        "colab_type": "code",
        "colab": {}
      },
      "source": [
        "with tf.gfile.GFile(data_path, 'r') as f:\n",
        "        data = f.read()"
      ],
      "execution_count": 0,
      "outputs": []
    },
    {
      "cell_type": "code",
      "metadata": {
        "id": "ktrpSNXivMCf",
        "colab_type": "code",
        "colab": {
          "base_uri": "https://localhost:8080/",
          "height": 51
        },
        "outputId": "76fda0c7-2f3b-4a5e-c8ee-3eec686e6e98"
      },
      "source": [
        "print(type(data))\n",
        "print(len(data))"
      ],
      "execution_count": 4,
      "outputs": [
        {
          "output_type": "stream",
          "text": [
            "<class 'str'>\n",
            "149326361\n"
          ],
          "name": "stdout"
        }
      ]
    },
    {
      "cell_type": "code",
      "metadata": {
        "id": "ixqB_LoXvMB1",
        "colab_type": "code",
        "colab": {
          "base_uri": "https://localhost:8080/",
          "height": 54
        },
        "outputId": "dcf5dc7e-1f3c-4d3c-d67a-50d681675ab2"
      },
      "source": [
        "print(data[:200])"
      ],
      "execution_count": 5,
      "outputs": [
        {
          "output_type": "stream",
          "text": [
            "MARCH # All Stories New and Complete Publisher Editor IF is published bi-monthly by Quinn Publishing Company, Inc., Kingston, New York. Volume #, No. #. Copyright # by Quinn Publishing Company, Inc. A\n"
          ],
          "name": "stdout"
        }
      ]
    },
    {
      "cell_type": "markdown",
      "metadata": {
        "id": "zVGVjEY6vbRC",
        "colab_type": "text"
      },
      "source": [
        "## Data Pre-Processing"
      ]
    },
    {
      "cell_type": "code",
      "metadata": {
        "id": "cXDkpIrrvL8A",
        "colab_type": "code",
        "colab": {
          "base_uri": "https://localhost:8080/",
          "height": 34
        },
        "outputId": "76a442a8-8faa-42b0-df4d-7f99d97b3f12"
      },
      "source": [
        "processed_data = \"\"\n",
        "\n",
        "for word in tqdm(data.split(\" \")):\n",
        "  word = word.lower()\n",
        "  word1 = word.replace(\"wouldn't\",\"would not\").replace(\"don't\",\"do not\").replace(\"what's\",\"what is\").replace(\"doesn't\",\"does not\")\n",
        "  if(word1!=word):\n",
        "    processed_data+=\" \"+word1\n",
        "  else:\n",
        "    word = re.sub(\"[^a-zA-Z]+\", \"\", word)\n",
        "    if(word.isalnum()):\n",
        "      processed_data+=\" \"+word"
      ],
      "execution_count": 6,
      "outputs": [
        {
          "output_type": "stream",
          "text": [
            "100%|██████████| 26655101/26655101 [01:06<00:00, 397913.59it/s]\n"
          ],
          "name": "stderr"
        }
      ]
    },
    {
      "cell_type": "code",
      "metadata": {
        "id": "8HilmyTgvL3S",
        "colab_type": "code",
        "colab": {
          "base_uri": "https://localhost:8080/",
          "height": 122
        },
        "outputId": "36b3fca2-5a26-42ef-d742-1869a4c08cf1"
      },
      "source": [
        "print(\"BEFORE PROCESSING:\")\n",
        "print(data[:200])\n",
        "print()\n",
        "print(\"AFTER PROCESSING:\")\n",
        "print(processed_data[:200])"
      ],
      "execution_count": 7,
      "outputs": [
        {
          "output_type": "stream",
          "text": [
            "BEFORE PROCESSING:\n",
            "MARCH # All Stories New and Complete Publisher Editor IF is published bi-monthly by Quinn Publishing Company, Inc., Kingston, New York. Volume #, No. #. Copyright # by Quinn Publishing Company, Inc. A\n",
            "\n",
            "AFTER PROCESSING:\n",
            " march all stories new and complete publisher editor if is published bimonthly by quinn publishing company inc kingston new york volume no copyright by quinn publishing company inc application for ent\n"
          ],
          "name": "stdout"
        }
      ]
    },
    {
      "cell_type": "code",
      "metadata": {
        "id": "LdjzPQuYxJfV",
        "colab_type": "code",
        "colab": {}
      },
      "source": [
        "processed_data = processed_data[7:]"
      ],
      "execution_count": 0,
      "outputs": []
    },
    {
      "cell_type": "markdown",
      "metadata": {
        "id": "E4YVM8m6yovJ",
        "colab_type": "text"
      },
      "source": [
        "## Data Analysis:"
      ]
    },
    {
      "cell_type": "code",
      "metadata": {
        "id": "csNmWt4qyCWn",
        "colab_type": "code",
        "colab": {}
      },
      "source": [
        "processed_data = processed_data[:500000]"
      ],
      "execution_count": 0,
      "outputs": []
    },
    {
      "cell_type": "code",
      "metadata": {
        "id": "uYP48YD4yt3j",
        "colab_type": "code",
        "colab": {}
      },
      "source": [
        "processed_data1 = processed_data.split(\" \")\n",
        "counter = (pd.Series(processed_data1)).value_counts()"
      ],
      "execution_count": 0,
      "outputs": []
    },
    {
      "cell_type": "code",
      "metadata": {
        "id": "ryQVuJ79yt8h",
        "colab_type": "code",
        "colab": {
          "base_uri": "https://localhost:8080/",
          "height": 204
        },
        "outputId": "0b5073d5-322c-4ed5-f80f-a317dba4d77e"
      },
      "source": [
        "counter[:10]"
      ],
      "execution_count": 11,
      "outputs": [
        {
          "output_type": "execute_result",
          "data": {
            "text/plain": [
              "the    5237\n",
              "and    2379\n",
              "a      2342\n",
              "to     2306\n",
              "of     2177\n",
              "it     1412\n",
              "i      1303\n",
              "in     1259\n",
              "he     1249\n",
              "you    1195\n",
              "dtype: int64"
            ]
          },
          "metadata": {
            "tags": []
          },
          "execution_count": 11
        }
      ]
    },
    {
      "cell_type": "code",
      "metadata": {
        "id": "volYbV6JyuBz",
        "colab_type": "code",
        "colab": {
          "base_uri": "https://localhost:8080/",
          "height": 68
        },
        "outputId": "ce843286-c310-473c-c3c0-9d0e4bc6424b"
      },
      "source": [
        "print(\"Total length of data:\",len(processed_data))\n",
        "print(\"Total number of words in data:\",len(processed_data.split(\" \")))\n",
        "print(\"Total number of unique words :\",len(counter))"
      ],
      "execution_count": 12,
      "outputs": [
        {
          "output_type": "stream",
          "text": [
            "Total length of data: 500000\n",
            "Total number of words in data: 94312\n",
            "Total number of unique words : 10427\n"
          ],
          "name": "stdout"
        }
      ]
    },
    {
      "cell_type": "code",
      "metadata": {
        "id": "kglUxp72yuIN",
        "colab_type": "code",
        "colab": {
          "base_uri": "https://localhost:8080/",
          "height": 320
        },
        "outputId": "4b4c3e03-df59-474f-a6d9-0d1918128f47"
      },
      "source": [
        "counter.plot(kind=\"line\", logy=True, title=\"frequency or words\")"
      ],
      "execution_count": 13,
      "outputs": [
        {
          "output_type": "execute_result",
          "data": {
            "text/plain": [
              "<matplotlib.axes._subplots.AxesSubplot at 0x7f9b1725bdd8>"
            ]
          },
          "metadata": {
            "tags": []
          },
          "execution_count": 13
        },
        {
          "output_type": "display_data",
          "data": {
            "image/png": "[encoded data removed]",
            "text/plain": [
              "<Figure size 576x288 with 1 Axes>"
            ]
          },
          "metadata": {
            "tags": [],
            "image/png": {
              "width": 556,
              "height": 286
            }
          }
        }
      ]
    },
    {
      "cell_type": "code",
      "metadata": {
        "id": "3Zca_Hf8yuHc",
        "colab_type": "code",
        "colab": {
          "base_uri": "https://localhost:8080/",
          "height": 287
        },
        "outputId": "a85718b4-d237-4d6b-8934-03ca2cdbdc1d"
      },
      "source": [
        "wordcloud2 = WordCloud().generate(processed_data)\n",
        "\n",
        "plt.imshow(wordcloud2)\n",
        "plt.axis(\"off\")\n",
        "plt.show()"
      ],
      "execution_count": 14,
      "outputs": [
        {
          "output_type": "display_data",
          "data": {
            "image/png": "[encoded data removed]",
            "text/plain": [
              "<Figure size 576x288 with 1 Axes>"
            ]
          },
          "metadata": {
            "tags": [],
            "image/png": {
              "width": 511,
              "height": 270
            }
          }
        }
      ]
    },
    {
      "cell_type": "code",
      "metadata": {
        "id": "n3kA0jzCyuBA",
        "colab_type": "code",
        "colab": {}
      },
      "source": [
        ""
      ],
      "execution_count": 0,
      "outputs": []
    },
    {
      "cell_type": "markdown",
      "metadata": {
        "id": "wKr4Sezn1gH4",
        "colab_type": "text"
      },
      "source": [
        "## Preparation Training Data"
      ]
    },
    {
      "cell_type": "code",
      "metadata": {
        "id": "UB_gygupyt7s",
        "colab_type": "code",
        "colab": {}
      },
      "source": [
        "number_of_words = 3\n",
        "list_processed_data = processed_data.split(\" \")\n",
        "total_num_of_words = len(list_processed_data)\n",
        "X=[]; y=[]"
      ],
      "execution_count": 0,
      "outputs": []
    },
    {
      "cell_type": "code",
      "metadata": {
        "id": "WCjVP3G1yt2o",
        "colab_type": "code",
        "colab": {
          "base_uri": "https://localhost:8080/",
          "height": 34
        },
        "outputId": "243e8877-7acb-4b3f-9f02-8e0de5ae30b1"
      },
      "source": [
        "for i in tqdm(range(number_of_words,total_num_of_words)):\n",
        "  sent = []\n",
        "  for j in range(i-number_of_words,i):\n",
        "    sent.append(list_processed_data[j])\n",
        "  X.append(sent)\n",
        "  y.append(list_processed_data[i])\n",
        "  "
      ],
      "execution_count": 14,
      "outputs": [
        {
          "output_type": "stream",
          "text": [
            "100%|██████████| 94309/94309 [00:00<00:00, 301814.59it/s]\n"
          ],
          "name": "stderr"
        }
      ]
    },
    {
      "cell_type": "code",
      "metadata": {
        "id": "vp_9T6621wvq",
        "colab_type": "code",
        "colab": {
          "base_uri": "https://localhost:8080/",
          "height": 34
        },
        "outputId": "a81e5bf4-54cb-47d0-9d3b-590ac139c0ab"
      },
      "source": [
        "print(\"Original Dataset 1st 15 words: \",processed_data[:100])"
      ],
      "execution_count": 15,
      "outputs": [
        {
          "output_type": "stream",
          "text": [
            "Original Dataset 1st 15 words:  all stories new and complete publisher editor if is published bimonthly by quinn publishing company \n"
          ],
          "name": "stdout"
        }
      ]
    },
    {
      "cell_type": "code",
      "metadata": {
        "id": "Tv6Pg5hb5lc9",
        "colab_type": "code",
        "colab": {
          "base_uri": "https://localhost:8080/",
          "height": 221
        },
        "outputId": "b778f8ce-a516-4cb9-da0f-eb1f2fcf4c8d"
      },
      "source": [
        "print(\"\\tTRAIN DATA\",\"\\t\\t NEXT WORD (ground truth)\")\n",
        "[ print(X[i], \" -->  \", y[i]) for i in range(10) ]"
      ],
      "execution_count": 16,
      "outputs": [
        {
          "output_type": "stream",
          "text": [
            "\tTRAIN DATA \t\t NEXT WORD (ground truth)\n",
            "['all', 'stories', 'new']  -->   and\n",
            "['stories', 'new', 'and']  -->   complete\n",
            "['new', 'and', 'complete']  -->   publisher\n",
            "['and', 'complete', 'publisher']  -->   editor\n",
            "['complete', 'publisher', 'editor']  -->   if\n",
            "['publisher', 'editor', 'if']  -->   is\n",
            "['editor', 'if', 'is']  -->   published\n",
            "['if', 'is', 'published']  -->   bimonthly\n",
            "['is', 'published', 'bimonthly']  -->   by\n",
            "['published', 'bimonthly', 'by']  -->   quinn\n"
          ],
          "name": "stdout"
        },
        {
          "output_type": "execute_result",
          "data": {
            "text/plain": [
              "[None, None, None, None, None, None, None, None, None, None]"
            ]
          },
          "metadata": {
            "tags": []
          },
          "execution_count": 16
        }
      ]
    },
    {
      "cell_type": "code",
      "metadata": {
        "id": "2escX6LE6-Sn",
        "colab_type": "code",
        "colab": {
          "base_uri": "https://localhost:8080/",
          "height": 51
        },
        "outputId": "1caa0c5d-09a0-4944-e559-c985afe930d4"
      },
      "source": [
        "print(\"Training data shape: \",(len(X),len(X[0])))\n",
        "print(\"Ouput data shape:\",(len(y),1))"
      ],
      "execution_count": 17,
      "outputs": [
        {
          "output_type": "stream",
          "text": [
            "Training data shape:  (94309, 3)\n",
            "Ouput data shape: (94309, 1)\n"
          ],
          "name": "stdout"
        }
      ]
    },
    {
      "cell_type": "markdown",
      "metadata": {
        "id": "kNxwPjES6vz1",
        "colab_type": "text"
      },
      "source": [
        "### Train Validation spilt"
      ]
    },
    {
      "cell_type": "code",
      "metadata": {
        "id": "_bOVgHgG67D-",
        "colab_type": "code",
        "colab": {}
      },
      "source": [
        "X_train = X[:75000]\n",
        "X_val = X[75000:]\n",
        "y_train = y[:75000]\n",
        "y_val = y[75000:]"
      ],
      "execution_count": 0,
      "outputs": []
    },
    {
      "cell_type": "code",
      "metadata": {
        "id": "tyWeuGuB8CXa",
        "colab_type": "code",
        "colab": {}
      },
      "source": [
        ""
      ],
      "execution_count": 0,
      "outputs": []
    },
    {
      "cell_type": "markdown",
      "metadata": {
        "id": "27unr1jq9BIW",
        "colab_type": "text"
      },
      "source": [
        "### convert word to id for all words in vocabulary"
      ]
    },
    {
      "cell_type": "code",
      "metadata": {
        "id": "WlkwjWB48o_I",
        "colab_type": "code",
        "colab": {}
      },
      "source": [
        "def build_vocab(data):\n",
        "  \n",
        "    counter = collections.Counter(data)\n",
        "    count_pairs = sorted(counter.items(), key=lambda x: (-x[1], x[0]))\n",
        "\n",
        "    words, _ = list(zip(*count_pairs))\n",
        "    word_to_id = dict(zip(words, range(len(words))))\n",
        "\n",
        "    return word_to_id"
      ],
      "execution_count": 0,
      "outputs": []
    },
    {
      "cell_type": "code",
      "metadata": {
        "id": "PfekVrhO9TR3",
        "colab_type": "code",
        "colab": {}
      },
      "source": [
        "def file_to_word_ids(data, word_to_id):\n",
        "  data_id = []\n",
        "  for sent in data:\n",
        "    sent_id = [word_to_id[word] for word in sent if word in word_to_id]\n",
        "    data.append(sent_id)\n",
        "  return data"
      ],
      "execution_count": 0,
      "outputs": []
    },
    {
      "cell_type": "code",
      "metadata": {
        "id": "FttAVL7Z8pC_",
        "colab_type": "code",
        "colab": {}
      },
      "source": [
        "word_to_id = build_vocab(list_processed_data)"
      ],
      "execution_count": 0,
      "outputs": []
    },
    {
      "cell_type": "code",
      "metadata": {
        "id": "-6scsvVv8o-N",
        "colab_type": "code",
        "colab": {
          "base_uri": "https://localhost:8080/",
          "height": 34
        },
        "outputId": "d0fecf15-25e7-4f76-b57a-39b260fd29f1"
      },
      "source": [
        "print(\"Number of unique words having (word:id) pairs:\",len(word_to_id))"
      ],
      "execution_count": 22,
      "outputs": [
        {
          "output_type": "stream",
          "text": [
            "Number of unique words having (word:id) pairs: 10427\n"
          ],
          "name": "stdout"
        }
      ]
    },
    {
      "cell_type": "code",
      "metadata": {
        "id": "nC75UfwNChUt",
        "colab_type": "code",
        "colab": {
          "base_uri": "https://localhost:8080/",
          "height": 34
        },
        "outputId": "78d651d7-23b3-4305-fbbf-8be9d0b0c5dd"
      },
      "source": [
        "train_data = []\n",
        "\n",
        "for i,sent in tqdm(enumerate(X_train)):\n",
        "  sent_id = [word_to_id[word] for word in sent if word in word_to_id]\n",
        "  train_data.append(sent_id)"
      ],
      "execution_count": 23,
      "outputs": [
        {
          "output_type": "stream",
          "text": [
            "75000it [00:00, 282091.64it/s]\n"
          ],
          "name": "stderr"
        }
      ]
    },
    {
      "cell_type": "code",
      "metadata": {
        "id": "gVAw6k_Z88BZ",
        "colab_type": "code",
        "colab": {
          "base_uri": "https://localhost:8080/",
          "height": 34
        },
        "outputId": "230a3724-1fee-41f7-cb28-30488222748c"
      },
      "source": [
        "valid_data = []\n",
        "\n",
        "for i,sent in tqdm(enumerate(X_val)):\n",
        "  sent_id = [word_to_id[word] for word in sent if word in word_to_id]\n",
        "  valid_data.append(sent_id)"
      ],
      "execution_count": 24,
      "outputs": [
        {
          "output_type": "stream",
          "text": [
            "19309it [00:00, 543214.27it/s]\n"
          ],
          "name": "stderr"
        }
      ]
    },
    {
      "cell_type": "code",
      "metadata": {
        "id": "fhjqf8kJDLpg",
        "colab_type": "code",
        "colab": {}
      },
      "source": [
        "y_train_data = [word_to_id[word] for word in y_train if word in word_to_id]\n",
        "y_val_data = [word_to_id[word] for word in y_val if word in word_to_id]"
      ],
      "execution_count": 0,
      "outputs": []
    },
    {
      "cell_type": "markdown",
      "metadata": {
        "id": "JJg8e0EbEYyu",
        "colab_type": "text"
      },
      "source": [
        "### Example"
      ]
    },
    {
      "cell_type": "code",
      "metadata": {
        "id": "rb8b97fBDvpg",
        "colab_type": "code",
        "colab": {
          "base_uri": "https://localhost:8080/",
          "height": 221
        },
        "outputId": "80c68a74-ea7d-4600-b446-b0fbef3e6cd1"
      },
      "source": [
        "print(\" TRAIN DATA\",\"\\t NEXT WORD (ground truth)\")\n",
        "[ print(train_data[i], \" -->  \", y_train_data[i]) for i in range(10) ]"
      ],
      "execution_count": 26,
      "outputs": [
        {
          "output_type": "stream",
          "text": [
            " TRAIN DATA \t NEXT WORD (ground truth)\n",
            "[35, 559, 151]  -->   1\n",
            "[559, 151, 1]  -->   624\n",
            "[151, 1, 624]  -->   3058\n",
            "[1, 624, 3058]  -->   456\n",
            "[624, 3058, 456]  -->   47\n",
            "[3058, 456, 47]  -->   19\n",
            "[456, 47, 19]  -->   1677\n",
            "[47, 19, 1677]  -->   2595\n",
            "[19, 1677, 2595]  -->   63\n",
            "[1677, 2595, 63]  -->   1981\n"
          ],
          "name": "stdout"
        },
        {
          "output_type": "execute_result",
          "data": {
            "text/plain": [
              "[None, None, None, None, None, None, None, None, None, None]"
            ]
          },
          "metadata": {
            "tags": []
          },
          "execution_count": 26
        }
      ]
    },
    {
      "cell_type": "code",
      "metadata": {
        "id": "e0ELvsgVD_KL",
        "colab_type": "code",
        "colab": {}
      },
      "source": [
        ""
      ],
      "execution_count": 0,
      "outputs": []
    },
    {
      "cell_type": "markdown",
      "metadata": {
        "id": "fCZu34BIF1SW",
        "colab_type": "text"
      },
      "source": [
        "### Saving (word:key) in form of dictionary"
      ]
    },
    {
      "cell_type": "code",
      "metadata": {
        "id": "ogyEHsL3GJBK",
        "colab_type": "code",
        "colab": {}
      },
      "source": [
        "def save_json(dictionary, filename):\n",
        "    with open(filename, 'w') as fp:\n",
        "        json.dump(dictionary, fp)"
      ],
      "execution_count": 0,
      "outputs": []
    },
    {
      "cell_type": "code",
      "metadata": {
        "id": "K3s8jzmNewqW",
        "colab_type": "code",
        "colab": {}
      },
      "source": [
        "save_json(word_to_id, 'word_to_id.json')"
      ],
      "execution_count": 0,
      "outputs": []
    },
    {
      "cell_type": "markdown",
      "metadata": {
        "id": "SsO8t1PvG2SZ",
        "colab_type": "text"
      },
      "source": [
        "### Save prepared data"
      ]
    },
    {
      "cell_type": "code",
      "metadata": {
        "id": "ydqHrEEPE576",
        "colab_type": "code",
        "colab": {
          "base_uri": "https://localhost:8080/",
          "height": 221
        },
        "outputId": "b6dbd0c5-9548-42c9-b77e-8ad85b275631"
      },
      "source": [
        "df = pd.DataFrame((train_data+valid_data))\n",
        "df[\"output\"] = y_train_data+y_val_data\n",
        "\n",
        "print(df.shape)\n",
        "df.head()"
      ],
      "execution_count": 65,
      "outputs": [
        {
          "output_type": "stream",
          "text": [
            "(94309, 4)\n"
          ],
          "name": "stdout"
        },
        {
          "output_type": "execute_result",
          "data": {
            "text/html": [
              "<div>\n",
              "<style scoped>\n",
              "    .dataframe tbody tr th:only-of-type {\n",
              "        vertical-align: middle;\n",
              "    }\n",
              "\n",
              "    .dataframe tbody tr th {\n",
              "        vertical-align: top;\n",
              "    }\n",
              "\n",
              "    .dataframe thead th {\n",
              "        text-align: right;\n",
              "    }\n",
              "</style>\n",
              "<table border=\"1\" class=\"dataframe\">\n",
              "  <thead>\n",
              "    <tr style=\"text-align: right;\">\n",
              "      <th></th>\n",
              "      <th>0</th>\n",
              "      <th>1</th>\n",
              "      <th>2</th>\n",
              "      <th>output</th>\n",
              "    </tr>\n",
              "  </thead>\n",
              "  <tbody>\n",
              "    <tr>\n",
              "      <th>0</th>\n",
              "      <td>35</td>\n",
              "      <td>559</td>\n",
              "      <td>151</td>\n",
              "      <td>1</td>\n",
              "    </tr>\n",
              "    <tr>\n",
              "      <th>1</th>\n",
              "      <td>559</td>\n",
              "      <td>151</td>\n",
              "      <td>1</td>\n",
              "      <td>624</td>\n",
              "    </tr>\n",
              "    <tr>\n",
              "      <th>2</th>\n",
              "      <td>151</td>\n",
              "      <td>1</td>\n",
              "      <td>624</td>\n",
              "      <td>3058</td>\n",
              "    </tr>\n",
              "    <tr>\n",
              "      <th>3</th>\n",
              "      <td>1</td>\n",
              "      <td>624</td>\n",
              "      <td>3058</td>\n",
              "      <td>456</td>\n",
              "    </tr>\n",
              "    <tr>\n",
              "      <th>4</th>\n",
              "      <td>624</td>\n",
              "      <td>3058</td>\n",
              "      <td>456</td>\n",
              "      <td>47</td>\n",
              "    </tr>\n",
              "  </tbody>\n",
              "</table>\n",
              "</div>"
            ],
            "text/plain": [
              "     0     1     2  output\n",
              "0   35   559   151       1\n",
              "1  559   151     1     624\n",
              "2  151     1   624    3058\n",
              "3    1   624  3058     456\n",
              "4  624  3058   456      47"
            ]
          },
          "metadata": {
            "tags": []
          },
          "execution_count": 65
        }
      ]
    },
    {
      "cell_type": "code",
      "metadata": {
        "id": "aDWR2Vc5GUgl",
        "colab_type": "code",
        "colab": {}
      },
      "source": [
        "# save dataframe\n",
        "df.to_csv(\"sentence_to_id_text.csv\",index=False)"
      ],
      "execution_count": 0,
      "outputs": []
    },
    {
      "cell_type": "markdown",
      "metadata": {
        "id": "qPsRTO6VP4vK",
        "colab_type": "text"
      },
      "source": [
        "### Loading of Data"
      ]
    },
    {
      "cell_type": "code",
      "metadata": {
        "id": "0t8qLdvtQdUZ",
        "colab_type": "code",
        "colab": {
          "base_uri": "https://localhost:8080/",
          "height": 221
        },
        "outputId": "0a06fbf1-a262-4e1a-dcb2-d1067e0afc02"
      },
      "source": [
        "data = pd.read_csv(\"sentence_to_id_text.csv\")\n",
        "print(data.shape)\n",
        "data.head()"
      ],
      "execution_count": 3,
      "outputs": [
        {
          "output_type": "stream",
          "text": [
            "(187781, 4)\n"
          ],
          "name": "stdout"
        },
        {
          "output_type": "execute_result",
          "data": {
            "text/html": [
              "<div>\n",
              "<style scoped>\n",
              "    .dataframe tbody tr th:only-of-type {\n",
              "        vertical-align: middle;\n",
              "    }\n",
              "\n",
              "    .dataframe tbody tr th {\n",
              "        vertical-align: top;\n",
              "    }\n",
              "\n",
              "    .dataframe thead th {\n",
              "        text-align: right;\n",
              "    }\n",
              "</style>\n",
              "<table border=\"1\" class=\"dataframe\">\n",
              "  <thead>\n",
              "    <tr style=\"text-align: right;\">\n",
              "      <th></th>\n",
              "      <th>0</th>\n",
              "      <th>1</th>\n",
              "      <th>2</th>\n",
              "      <th>output</th>\n",
              "    </tr>\n",
              "  </thead>\n",
              "  <tbody>\n",
              "    <tr>\n",
              "      <th>0</th>\n",
              "      <td>35</td>\n",
              "      <td>509</td>\n",
              "      <td>173</td>\n",
              "      <td>1</td>\n",
              "    </tr>\n",
              "    <tr>\n",
              "      <th>1</th>\n",
              "      <td>509</td>\n",
              "      <td>173</td>\n",
              "      <td>1</td>\n",
              "      <td>718</td>\n",
              "    </tr>\n",
              "    <tr>\n",
              "      <th>2</th>\n",
              "      <td>173</td>\n",
              "      <td>1</td>\n",
              "      <td>718</td>\n",
              "      <td>3398</td>\n",
              "    </tr>\n",
              "    <tr>\n",
              "      <th>3</th>\n",
              "      <td>1</td>\n",
              "      <td>718</td>\n",
              "      <td>3398</td>\n",
              "      <td>547</td>\n",
              "    </tr>\n",
              "    <tr>\n",
              "      <th>4</th>\n",
              "      <td>718</td>\n",
              "      <td>3398</td>\n",
              "      <td>547</td>\n",
              "      <td>42</td>\n",
              "    </tr>\n",
              "  </tbody>\n",
              "</table>\n",
              "</div>"
            ],
            "text/plain": [
              "     0     1     2  output\n",
              "0   35   509   173       1\n",
              "1  509   173     1     718\n",
              "2  173     1   718    3398\n",
              "3    1   718  3398     547\n",
              "4  718  3398   547      42"
            ]
          },
          "metadata": {
            "tags": []
          },
          "execution_count": 3
        }
      ]
    },
    {
      "cell_type": "code",
      "metadata": {
        "id": "Eb_kUrp6RPq1",
        "colab_type": "code",
        "colab": {}
      },
      "source": [
        "# word_to_id = load_json('word_to_id.json')"
      ],
      "execution_count": 0,
      "outputs": []
    },
    {
      "cell_type": "code",
      "metadata": {
        "id": "mjjrPDM1RQKG",
        "colab_type": "code",
        "colab": {
          "base_uri": "https://localhost:8080/",
          "height": 34
        },
        "outputId": "e0d84b97-705e-44a5-8a8b-baddc48f4f59"
      },
      "source": [
        "X = []; Y=[]\n",
        "\n",
        "for i in tqdm(range(data.shape[0])):\n",
        "  sent = []\n",
        "  sent.append((data.iloc[i][\"0\"]))\n",
        "  sent.append((data.iloc[i][\"1\"]))\n",
        "  sent.append((data.iloc[i][\"2\"]))\n",
        "  \n",
        "  X.append(sent)\n",
        "  Y.append(data.iloc[i][\"output\"])"
      ],
      "execution_count": 5,
      "outputs": [
        {
          "output_type": "stream",
          "text": [
            "100%|██████████| 187781/187781 [02:49<00:00, 1151.85it/s]\n"
          ],
          "name": "stderr"
        }
      ]
    },
    {
      "cell_type": "code",
      "metadata": {
        "id": "PQWnuM8VRQQr",
        "colab_type": "code",
        "colab": {}
      },
      "source": [
        "train_data = X[:150000]\n",
        "val_data = X[150000:]\n",
        "y_train_data = Y[:150000]\n",
        "y_val_data = Y[150000:]"
      ],
      "execution_count": 0,
      "outputs": []
    },
    {
      "cell_type": "code",
      "metadata": {
        "id": "HQ12wrtqcYuO",
        "colab_type": "code",
        "colab": {}
      },
      "source": [
        ""
      ],
      "execution_count": 0,
      "outputs": []
    },
    {
      "cell_type": "markdown",
      "metadata": {
        "id": "PM_D_amaMVYz",
        "colab_type": "text"
      },
      "source": [
        "## Training the Model"
      ]
    },
    {
      "cell_type": "code",
      "metadata": {
        "id": "9p5zJieP5J3P",
        "colab_type": "code",
        "colab": {
          "base_uri": "https://localhost:8080/",
          "height": 34
        },
        "outputId": "3ef21f58-9afb-46e6-b876-b44eb45034fc"
      },
      "source": [
        "y_train = to_categorical(df[\"output\"], num_classes=len(word_to_id))\n",
        "\n",
        "print(y_train.shape)"
      ],
      "execution_count": 66,
      "outputs": [
        {
          "output_type": "stream",
          "text": [
            "(94309, 10427)\n"
          ],
          "name": "stdout"
        }
      ]
    },
    {
      "cell_type": "code",
      "metadata": {
        "id": "fiHmThTP4f43",
        "colab_type": "code",
        "colab": {
          "base_uri": "https://localhost:8080/",
          "height": 34
        },
        "outputId": "b32ca120-fb0f-425a-d3cf-0ad2ec3e94b7"
      },
      "source": [
        "df = df.drop(\"output\",axis=1)\n",
        "X_train = df\n",
        "print(X_train.shape)"
      ],
      "execution_count": 67,
      "outputs": [
        {
          "output_type": "stream",
          "text": [
            "(94309, 3)\n"
          ],
          "name": "stdout"
        }
      ]
    },
    {
      "cell_type": "code",
      "metadata": {
        "id": "xw9PYxuBvyLP",
        "colab_type": "code",
        "colab": {}
      },
      "source": [
        ""
      ],
      "execution_count": 0,
      "outputs": []
    },
    {
      "cell_type": "code",
      "metadata": {
        "id": "KSw2Yjh9UxWd",
        "colab_type": "code",
        "colab": {}
      },
      "source": [
        "vocab_size = len(word_to_id)\n",
        "max_length = 3"
      ],
      "execution_count": 0,
      "outputs": []
    },
    {
      "cell_type": "code",
      "metadata": {
        "id": "JhaqTBa5MmIN",
        "colab_type": "code",
        "colab": {}
      },
      "source": [
        "hidden_size = 150\n",
        "num_epochs = 100"
      ],
      "execution_count": 0,
      "outputs": []
    },
    {
      "cell_type": "code",
      "metadata": {
        "id": "xgJhFOlsJKNC",
        "colab_type": "code",
        "colab": {
          "base_uri": "https://localhost:8080/",
          "height": 442
        },
        "outputId": "2bbfa116-b86c-498b-d1d6-3df1e4e2cc94"
      },
      "source": [
        "# define model\n",
        "model = Sequential()\n",
        "\n",
        "# Embedding layer / Input layer\n",
        "model.add(Embedding(vocab_size, 10, input_length=max_length))\n",
        "\n",
        "# 4 LSTM layers\n",
        "model.add(LSTM(units=hidden_size, return_sequences=True))\n",
        "model.add(LSTM(units=hidden_size, return_sequences=True))\n",
        "model.add(LSTM(units=hidden_size, return_sequences=True))\n",
        "model.add(LSTM(units=hidden_size, return_sequences=False))\n",
        "\n",
        "# Fully Connected layer\n",
        "model.add(Dense(1024, activation='relu'))\n",
        "model.add(Dropout(0.3, seed=0.2))\n",
        "model.add(Dense(512, activation='relu'))\n",
        "\n",
        "# Output Layer\n",
        "model.add(Dense(vocab_size, activation='softmax'))\n",
        "\n",
        "model.summary()"
      ],
      "execution_count": 73,
      "outputs": [
        {
          "output_type": "stream",
          "text": [
            "_________________________________________________________________\n",
            "Layer (type)                 Output Shape              Param #   \n",
            "=================================================================\n",
            "embedding_10 (Embedding)     (None, 3, 10)             104270    \n",
            "_________________________________________________________________\n",
            "lstm_34 (LSTM)               (None, 3, 150)            96600     \n",
            "_________________________________________________________________\n",
            "lstm_35 (LSTM)               (None, 3, 150)            180600    \n",
            "_________________________________________________________________\n",
            "lstm_36 (LSTM)               (None, 3, 150)            180600    \n",
            "_________________________________________________________________\n",
            "lstm_37 (LSTM)               (None, 150)               180600    \n",
            "_________________________________________________________________\n",
            "dense_19 (Dense)             (None, 1024)              154624    \n",
            "_________________________________________________________________\n",
            "dropout_7 (Dropout)          (None, 1024)              0         \n",
            "_________________________________________________________________\n",
            "dense_20 (Dense)             (None, 512)               524800    \n",
            "_________________________________________________________________\n",
            "dense_21 (Dense)             (None, 10427)             5349051   \n",
            "=================================================================\n",
            "Total params: 6,771,145\n",
            "Trainable params: 6,771,145\n",
            "Non-trainable params: 0\n",
            "_________________________________________________________________\n"
          ],
          "name": "stdout"
        }
      ]
    },
    {
      "cell_type": "code",
      "metadata": {
        "id": "aYw1jweuGUfQ",
        "colab_type": "code",
        "colab": {}
      },
      "source": [
        "# compile network\n",
        "model.compile(loss='categorical_crossentropy', optimizer='adam', metrics=['accuracy'])"
      ],
      "execution_count": 0,
      "outputs": []
    },
    {
      "cell_type": "code",
      "metadata": {
        "id": "tZ8965QzLU97",
        "colab_type": "code",
        "colab": {
          "base_uri": "https://localhost:8080/",
          "height": 1377
        },
        "outputId": "f7bcd437-2042-4e50-d55b-901312d5ae41"
      },
      "source": [
        "# fit network\n",
        "history = model.fit(X_train, y_train, epochs=num_epochs, batch_size=32)"
      ],
      "execution_count": 75,
      "outputs": [
        {
          "output_type": "stream",
          "text": [
            "Epoch 1/100\n",
            "94309/94309 [==============================] - 92s 978us/step - loss: 6.9315 - acc: 0.0555\n",
            "Epoch 2/100\n",
            "94309/94309 [==============================] - 81s 862us/step - loss: 6.5866 - acc: 0.0648\n",
            "Epoch 3/100\n",
            "94309/94309 [==============================] - 82s 870us/step - loss: 6.3580 - acc: 0.0735\n",
            "Epoch 4/100\n",
            "94309/94309 [==============================] - 81s 862us/step - loss: 6.1757 - acc: 0.0827\n",
            "Epoch 5/100\n",
            "94309/94309 [==============================] - 83s 878us/step - loss: 6.0302 - acc: 0.0895\n",
            "Epoch 6/100\n",
            "94309/94309 [==============================] - 81s 862us/step - loss: 5.9027 - acc: 0.0970\n",
            "Epoch 7/100\n",
            "94309/94309 [==============================] - 82s 869us/step - loss: 5.7815 - acc: 0.1033\n",
            "Epoch 8/100\n",
            "94309/94309 [==============================] - 81s 861us/step - loss: 5.6687 - acc: 0.1080\n",
            "Epoch 9/100\n",
            "94309/94309 [==============================] - 82s 868us/step - loss: 5.5630 - acc: 0.1135\n",
            "Epoch 10/100\n",
            "94309/94309 [==============================] - 82s 867us/step - loss: 5.4622 - acc: 0.1176\n",
            "Epoch 11/100\n",
            "94309/94309 [==============================] - 81s 857us/step - loss: 5.3709 - acc: 0.1206\n",
            "Epoch 12/100\n",
            "94309/94309 [==============================] - 81s 858us/step - loss: 5.2780 - acc: 0.1242\n",
            "Epoch 13/100\n",
            "94309/94309 [==============================] - 82s 868us/step - loss: 5.1973 - acc: 0.1282\n",
            "Epoch 14/100\n",
            "94309/94309 [==============================] - 82s 865us/step - loss: 5.1202 - acc: 0.1312\n",
            "Epoch 15/100\n",
            "94309/94309 [==============================] - 81s 857us/step - loss: 5.0477 - acc: 0.1338\n",
            "Epoch 16/100\n",
            "94309/94309 [==============================] - 82s 872us/step - loss: 4.9775 - acc: 0.1377\n",
            "Epoch 17/100\n",
            "94309/94309 [==============================] - 81s 856us/step - loss: 4.9154 - acc: 0.1407\n",
            "Epoch 18/100\n",
            "94309/94309 [==============================] - 81s 863us/step - loss: 4.8529 - acc: 0.1429\n",
            "Epoch 19/100\n",
            "94309/94309 [==============================] - 81s 855us/step - loss: 4.7932 - acc: 0.1468\n",
            "Epoch 20/100\n",
            "94309/94309 [==============================] - 82s 873us/step - loss: 4.7381 - acc: 0.1494\n",
            "Epoch 21/100\n",
            "94309/94309 [==============================] - 81s 856us/step - loss: 4.6875 - acc: 0.1523\n",
            "Epoch 22/100\n",
            "94309/94309 [==============================] - 82s 864us/step - loss: 4.6402 - acc: 0.1547\n",
            "Epoch 23/100\n",
            "94309/94309 [==============================] - 81s 858us/step - loss: 4.5894 - acc: 0.1580\n",
            "Epoch 24/100\n",
            "94309/94309 [==============================] - 83s 875us/step - loss: 4.5507 - acc: 0.1598\n",
            "Epoch 25/100\n",
            "94309/94309 [==============================] - 82s 865us/step - loss: 4.5031 - acc: 0.1624\n",
            "Epoch 26/100\n",
            "94309/94309 [==============================] - 81s 855us/step - loss: 4.4646 - acc: 0.1644\n",
            "Epoch 27/100\n",
            "94309/94309 [==============================] - 81s 857us/step - loss: 4.4277 - acc: 0.1663\n",
            "Epoch 28/100\n",
            "94309/94309 [==============================] - 82s 874us/step - loss: 4.3910 - acc: 0.1691\n",
            "Epoch 29/100\n",
            "94309/94309 [==============================] - 81s 864us/step - loss: 4.3573 - acc: 0.1723\n",
            "Epoch 30/100\n",
            "94309/94309 [==============================] - 81s 856us/step - loss: 4.3228 - acc: 0.1748\n",
            "Epoch 31/100\n",
            "94309/94309 [==============================] - 81s 855us/step - loss: 4.2880 - acc: 0.1758\n",
            "Epoch 32/100\n",
            "94309/94309 [==============================] - 82s 871us/step - loss: 4.2598 - acc: 0.1790\n",
            "Epoch 33/100\n",
            "94309/94309 [==============================] - 81s 864us/step - loss: 4.2336 - acc: 0.1813\n",
            "Epoch 34/100\n",
            "94309/94309 [==============================] - 81s 856us/step - loss: 4.2057 - acc: 0.1832\n",
            "Epoch 35/100\n",
            "94309/94309 [==============================] - 82s 866us/step - loss: 4.1776 - acc: 0.1840\n",
            "Epoch 36/100\n",
            "94309/94309 [==============================] - 81s 857us/step - loss: 4.1590 - acc: 0.1879\n",
            "Epoch 37/100\n",
            "94309/94309 [==============================] - 81s 863us/step - loss: 4.1321 - acc: 0.1891\n",
            "Epoch 38/100\n",
            "94309/94309 [==============================] - 81s 856us/step - loss: 4.1082 - acc: 0.1912\n",
            "Epoch 39/100\n",
            "94309/94309 [==============================] - 82s 866us/step - loss: 4.0824 - acc: 0.1939\n",
            "Epoch 40/100\n",
            "72384/94309 [======================>.......] - ETA: 18s - loss: 4.0407 - acc: 0.1968Buffered data was truncated after reaching the output size limit."
          ],
          "name": "stdout"
        }
      ]
    },
    {
      "cell_type": "code",
      "metadata": {
        "id": "dvS8D7UPLVDR",
        "colab_type": "code",
        "colab": {}
      },
      "source": [
        ""
      ],
      "execution_count": 0,
      "outputs": []
    },
    {
      "cell_type": "code",
      "metadata": {
        "id": "RfodfoOBLVCI",
        "colab_type": "code",
        "colab": {
          "base_uri": "https://localhost:8080/",
          "height": 302
        },
        "outputId": "97ce5ebd-7d0b-4caa-88ba-c63425e38a22"
      },
      "source": [
        "plt.figure(figsize=(12,4))\n",
        "plt.subplot(121)\n",
        "plt.plot(history.history['acc'])\n",
        "plt.ylabel('Accuracy')\n",
        "plt.xlabel('Epoch')\n",
        "plt.subplot(122)\n",
        "plt.plot(history.history['loss'])\n",
        "plt.ylabel('Loss')\n",
        "plt.xlabel('Epoch')\n",
        "plt.show()"
      ],
      "execution_count": 83,
      "outputs": [
        {
          "output_type": "display_data",
          "data": {
            "image/png": "[encoded data removed]",
            "text/plain": [
              "<Figure size 864x288 with 2 Axes>"
            ]
          },
          "metadata": {
            "tags": [],
            "image/png": {
              "width": 822,
              "height": 285
            }
          }
        }
      ]
    },
    {
      "cell_type": "markdown",
      "metadata": {
        "id": "-hAtcufZmCJI",
        "colab_type": "text"
      },
      "source": [
        "### Save the keras model"
      ]
    },
    {
      "cell_type": "code",
      "metadata": {
        "id": "5bQAPz3-LU8y",
        "colab_type": "code",
        "colab": {
          "base_uri": "https://localhost:8080/",
          "height": 34
        },
        "outputId": "a30799d6-0778-4bc1-badb-21968c041d71"
      },
      "source": [
        "model_json = model.to_json()\n",
        "with open(\"model.json\", \"w\") as json_file:\n",
        "    json_file.write(model_json)\n",
        "\n",
        "model.save_weights(\"model.h5\")\n",
        "print(\"Saved model to disk\")"
      ],
      "execution_count": 85,
      "outputs": [
        {
          "output_type": "stream",
          "text": [
            "Saved model to disk\n"
          ],
          "name": "stdout"
        }
      ]
    },
    {
      "cell_type": "markdown",
      "metadata": {
        "id": "pUhUawuvmp2S",
        "colab_type": "text"
      },
      "source": [
        "## Testing the model"
      ]
    },
    {
      "cell_type": "code",
      "metadata": {
        "id": "WGyUqzxouP5z",
        "colab_type": "code",
        "colab": {
          "base_uri": "https://localhost:8080/",
          "height": 1904
        },
        "outputId": "5bdf8773-65ea-49c2-9a77-055d7aa150a3"
      },
      "source": [
        "while True:\n",
        "  sentences = (input('\\n\\nEnter exactly ' + str(number_of_words) +' words: \\n'))\n",
        "  print('\\n')\n",
        "  if sentences == \"BYE\":\n",
        "    print(\"QUIT !\")\n",
        "    break\n",
        "  sent_id = np.zeros((1,3))\n",
        "  for i,word in enumerate(sentences.split(\" \")):\n",
        "    sent_id[0][i] = (word_to_id.get(word))\n",
        "    \n",
        "  pred = (model.predict([sent_id]))\n",
        "  sort_pred = np.sort(pred[0])\n",
        "  ind = np.argsort(pred[0])\n",
        "  print(\"Indexing of input:\",sent_id[0])\n",
        "  print(\"OUTPUT\")\n",
        "  print(\"Probability: \",sort_pred[::-1][:5])\n",
        "  print(\"Output index\",ind[::-1][:5])\n",
        "  print(\"Five most probable predicted word:\")\n",
        "  print()\n",
        "  print([(list(word_to_id.keys())[list(word_to_id.values()).index(out_ind)]) for out_ind in ind[::-1][:5]])\n",
        "  "
      ],
      "execution_count": 110,
      "outputs": [
        {
          "output_type": "stream",
          "text": [
            "\n",
            "\n",
            "Enter exactly 3 words: \n",
            "my name is\n",
            "\n",
            "\n",
            "Indexing of input: [ 51. 279.  19.]\n",
            "OUTPUT\n",
            "Probability:  [0.0912922  0.05450968 0.05442028 0.03276524 0.02866372]\n",
            "Output index [3500    0    2   16   11]\n",
            "Five most probable predicted word:\n",
            "\n",
            "['calvin', 'the', 'a', 'not', 'that']\n",
            "\n",
            "\n",
            "Enter exactly 3 words: \n",
            "i reside at\n",
            "\n",
            "\n",
            "Indexing of input: [6.00e+00 8.84e+03 1.80e+01]\n",
            "OUTPUT\n",
            "Probability:  [0.05171013 0.0436397  0.0290166  0.0280817  0.02771386]\n",
            "Output index [   0 7955 1940 2349  376]\n",
            "Five most probable predicted word:\n",
            "\n",
            "['the', 'monroe', 'mild', 'nowhere', 'ann']\n",
            "\n",
            "\n",
            "Enter exactly 3 words: \n",
            "i do not\n",
            "\n",
            "\n",
            "Indexing of input: [ 6. 23. 16.]\n",
            "OUTPUT\n",
            "Probability:  [0.33259043 0.1510726  0.1053549  0.04269391 0.03634592]\n",
            "Output index [ 59  90 111  64  31]\n",
            "Five most probable predicted word:\n",
            "\n",
            "['know', 'think', 'want', 'get', 'have']\n",
            "\n",
            "\n",
            "Enter exactly 3 words: \n",
            "my name is\n",
            "\n",
            "\n",
            "Indexing of input: [ 51. 279.  19.]\n",
            "OUTPUT\n",
            "Probability:  [0.0912922  0.05450968 0.05442028 0.03276524 0.02866372]\n",
            "Output index [3500    0    2   16   11]\n",
            "Five most probable predicted word:\n",
            "\n",
            "['calvin', 'the', 'a', 'not', 'that']\n",
            "\n",
            "\n",
            "Enter exactly 3 words: \n",
            "i thought it\n",
            "\n",
            "\n",
            "Indexing of input: [  6. 125.   5.]\n",
            "OUTPUT\n",
            "Probability:  [0.33632284 0.07001583 0.06495265 0.04845495 0.03960284]\n",
            "Output index [  10 1006    0  283   19]\n",
            "Five most probable predicted word:\n",
            "\n",
            "['was', 'chuckled', 'the', 'isnt', 'is']\n",
            "\n",
            "\n",
            "Enter exactly 3 words: \n",
            "full of th\n",
            "\n",
            "\n",
            "Indexing of input: [ 407.    4. 1487.]\n",
            "OUTPUT\n",
            "Probability:  [0.0941039  0.04360474 0.03721475 0.03176287 0.03079268]\n",
            "Output index [  1 190  61  38   3]\n",
            "Five most probable predicted word:\n",
            "\n",
            "['and', 'must', 'are', 'were', 'to']\n",
            "\n",
            "\n",
            "Enter exactly 3 words: \n",
            "they can build\n",
            "\n",
            "\n",
            "Indexing of input: [  30.   56. 1110.]\n",
            "OUTPUT\n",
            "Probability:  [0.15154555 0.07848145 0.05474898 0.0502679  0.03351407]\n",
            "Output index [   0 8277    5    2   53]\n",
            "Five most probable predicted word:\n",
            "\n",
            "['the', 'oxide', 'it', 'a', 'your']\n",
            "\n",
            "\n",
            "Enter exactly 3 words: \n",
            "can build ship\n",
            "\n",
            "\n",
            "Indexing of input: [  56. 1110.   89.]\n",
            "OUTPUT\n",
            "Probability:  [0.07561734 0.06844251 0.05777558 0.05218056 0.04262218]\n",
            "Output index [ 1  3  7  4 17]\n",
            "Five most probable predicted word:\n",
            "\n",
            "['and', 'to', 'in', 'of', 'with']\n",
            "\n",
            "\n",
            "Enter exactly 3 words: \n",
            "BYE\n",
            "\n",
            "\n",
            "QUIT !\n"
          ],
          "name": "stdout"
        }
      ]
    },
    {
      "cell_type": "code",
      "metadata": {
        "id": "8JT0s6sXnCVE",
        "colab_type": "code",
        "colab": {}
      },
      "source": [
        ""
      ],
      "execution_count": 0,
      "outputs": []
    },
    {
      "cell_type": "code",
      "metadata": {
        "id": "uutW5-wjnipi",
        "colab_type": "code",
        "colab": {}
      },
      "source": [
        ""
      ],
      "execution_count": 0,
      "outputs": []
    },
    {
      "cell_type": "code",
      "metadata": {
        "id": "Qh-WhZBnrHzy",
        "colab_type": "code",
        "colab": {}
      },
      "source": [
        ""
      ],
      "execution_count": 0,
      "outputs": []
    },
    {
      "cell_type": "code",
      "metadata": {
        "id": "fNrHSbxqrIcD",
        "colab_type": "code",
        "colab": {}
      },
      "source": [
        ""
      ],
      "execution_count": 0,
      "outputs": []
    }
  ]
}